{
 "cells": [
  {
   "cell_type": "markdown",
   "metadata": {},
   "source": [
    "\n",
    "# Handwritten digit recognition using 2-Layer NN\n",
    "\n",
    "The input dataset `digits` consists of 8x8 pixel images of handwritten digits. The goal is to recognize a handwritten digit. \n",
    "\n",
    "* Since an input image has 8 x 8 pixels, we have totally 8x8 = 64 features in the dataset. \n",
    "* We will assume that there are m neurons in one hidden layer\n",
    "* Also since there are 10 digits, the output layer (the only layer) consists of 10 neurons.\n",
    "\n",
    "Therefore the weight matrices for the two layers have shapes (64, m) and (m, 10)"
   ]
  },
  {
   "cell_type": "markdown",
   "metadata": {},
   "source": [
    "Next We load the dataset digits and split the dataset randomly into training dataset and test dataset."
   ]
  },
  {
   "cell_type": "code",
   "execution_count": 1,
   "metadata": {},
   "outputs": [],
   "source": [
    "from sklearn import datasets\n",
    "digits = datasets.load_digits()\n",
    "X = digits.data\n",
    "Y = digits.target\n",
    "from sklearn.model_selection import train_test_split\n",
    "X_train, X_test, Y_train, Y_test = train_test_split(X, Y, test_size=0.33)"
   ]
  },
  {
   "cell_type": "markdown",
   "metadata": {},
   "source": [
    "### Initialize `MNPClassifier` \n",
    "\n",
    "Note the value of argument `hidden_layer_sizes`."
   ]
  },
  {
   "cell_type": "code",
   "execution_count": 2,
   "metadata": {},
   "outputs": [
    {
     "name": "stdout",
     "output_type": "stream",
     "text": [
      "Iteration 1, loss = 2.67129034\n",
      "Iteration 2, loss = 2.38383385\n",
      "Iteration 3, loss = 2.34046651\n",
      "Iteration 4, loss = 2.31745457\n",
      "Iteration 5, loss = 2.31713061\n",
      "Iteration 6, loss = 2.31370710\n",
      "Iteration 7, loss = 2.31042903\n",
      "Iteration 8, loss = 2.30847421\n",
      "Iteration 9, loss = 2.31647243\n",
      "Iteration 10, loss = 2.31219381\n",
      "Iteration 11, loss = 2.30728487\n",
      "Iteration 12, loss = 2.30752042\n",
      "Iteration 13, loss = 2.30666700\n",
      "Iteration 14, loss = 2.30826543\n",
      "Iteration 15, loss = 2.30975356\n",
      "Iteration 16, loss = 2.30838748\n",
      "Iteration 17, loss = 2.30912299\n",
      "Iteration 18, loss = 2.30834181\n",
      "Iteration 19, loss = 2.30787380\n",
      "Iteration 20, loss = 2.30946118\n",
      "Iteration 21, loss = 2.31086564\n",
      "Iteration 22, loss = 2.31184143\n",
      "Iteration 23, loss = 2.31858411\n",
      "Iteration 24, loss = 2.31708724\n",
      "Training loss did not improve more than tol=0.000100 for 10 consecutive epochs. Stopping.\n"
     ]
    },
    {
     "data": {
      "text/plain": [
       "MLPClassifier(alpha=0, hidden_layer_sizes=(2,), learning_rate_init=0.1,\n",
       "              solver='sgd', verbose=True)"
      ]
     },
     "execution_count": 2,
     "metadata": {},
     "output_type": "execute_result"
    }
   ],
   "source": [
    "from sklearn.neural_network import MLPClassifier\n",
    "mm = 10\n",
    "mlp = MLPClassifier(\n",
    "    hidden_layer_sizes=(2,),  # One hidden Layer\n",
    "    alpha=0,\n",
    "    solver=\"sgd\",\n",
    "    verbose=True,\n",
    "    learning_rate_init=0.1,\n",
    ")\n",
    "mlp.fit(X_train, Y_train)"
   ]
  },
  {
   "cell_type": "code",
   "execution_count": 3,
   "metadata": {},
   "outputs": [
    {
     "name": "stdout",
     "output_type": "stream",
     "text": [
      "Accuracy = 0.0909\n",
      "Confusion matrix:\n",
      "[[ 0  0  0  0 63  0  0  0  0  0]\n",
      " [ 0  0  0  0 54  0  0  0  0  0]\n",
      " [ 0  0  0  0 61  0  0  0  0  0]\n",
      " [ 0  0  0  0 60  0  0  0  0  0]\n",
      " [ 0  0  0  0 54  0  0  0  0  0]\n",
      " [ 0  0  0  0 67  0  0  0  0  0]\n",
      " [ 0  0  0  0 60  0  0  0  0  0]\n",
      " [ 0  0  0  0 61  0  0  0  0  0]\n",
      " [ 0  0  0  0 59  0  0  0  0  0]\n",
      " [ 0  0  0  0 55  0  0  0  0  0]]\n"
     ]
    }
   ],
   "source": [
    "import numpy as np\n",
    "from sklearn import metrics\n",
    "Y_pred = mlp.predict(X_test)\n",
    "print('Accuracy = %0.4f'%np.mean(Y_pred == Y_test))\n",
    "print(\"Confusion matrix:\\n%s\" % metrics.confusion_matrix(Y_test, Y_pred))"
   ]
  },
  {
   "cell_type": "markdown",
   "metadata": {},
   "source": [
    "Class probabilities can be predicted using the `predict_proba` method as shown below."
   ]
  },
  {
   "cell_type": "code",
   "execution_count": 4,
   "metadata": {},
   "outputs": [
    {
     "data": {
      "text/plain": [
       "array([[0.10852528, 0.09449283, 0.08766922, 0.12291573, 0.1330957 ,\n",
       "        0.08034748, 0.10257861, 0.08362342, 0.09771277, 0.08903896]])"
      ]
     },
     "execution_count": 4,
     "metadata": {},
     "output_type": "execute_result"
    }
   ],
   "source": [
    "mlp.predict_proba(X_test[np.newaxis, 0])"
   ]
  },
  {
   "cell_type": "code",
   "execution_count": 5,
   "metadata": {},
   "outputs": [
    {
     "data": {
      "text/plain": [
       "array([4])"
      ]
     },
     "execution_count": 5,
     "metadata": {},
     "output_type": "execute_result"
    }
   ],
   "source": [
    "mlp.predict(X_test[np.newaxis, 0])"
   ]
  }
 ],
 "metadata": {
  "kernelspec": {
   "display_name": "Python 3 (ipykernel)",
   "language": "python",
   "name": "python3"
  },
  "language_info": {
   "codemirror_mode": {
    "name": "ipython",
    "version": 3
   },
   "file_extension": ".py",
   "mimetype": "text/x-python",
   "name": "python",
   "nbconvert_exporter": "python",
   "pygments_lexer": "ipython3",
   "version": "3.8.11"
  }
 },
 "nbformat": 4,
 "nbformat_minor": 1
}
