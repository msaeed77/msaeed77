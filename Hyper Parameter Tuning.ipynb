{
 "cells": [
  {
   "cell_type": "markdown",
   "id": "written-medication",
   "metadata": {},
   "source": [
    "# Hyper Parameter Tuning\n",
    "\n",
    "Hyper parameters are the parameters of the learning model that are not learned during the training process. These parameters must be finetuned separately.\n",
    "\n",
    "In scikit-learn hyper parameters parameters are passed as arguments to the constructor of the estimator while instanciating the estimators (learners).\n",
    "\n",
    "To know the parameters that can be passed to a constructor, we can use the signature function as shown below."
   ]
  },
  {
   "cell_type": "markdown",
   "id": "c2ba5371",
   "metadata": {},
   "source": [
    "## Signature of a function\n",
    "\n",
    "Signature of a function is named so because it idendifies the function uniquely. A function's signature includes the function's name, and the number, order and type of its arguments."
   ]
  },
  {
   "cell_type": "code",
   "execution_count": 1,
   "id": "sixth-elimination",
   "metadata": {},
   "outputs": [
    {
     "name": "stdout",
     "output_type": "stream",
     "text": [
      "(n_neighbors=5, *, weights='uniform', algorithm='auto', leaf_size=30, p=2, metric='minkowski', metric_params=None, n_jobs=None)\n"
     ]
    }
   ],
   "source": [
    "from inspect import signature\n",
    "from sklearn.neighbors import KNeighborsClassifier\n",
    "sign = signature(KNeighborsClassifier)\n",
    "print(sign)"
   ]
  },
  {
   "cell_type": "markdown",
   "id": "limited-flexibility",
   "metadata": {},
   "source": [
    "Note that for the `KNeighborsClassifier`, the argument `n_neighbors` is the hyper parameter that must be tuned."
   ]
  },
  {
   "cell_type": "markdown",
   "id": "sunset-spectacular",
   "metadata": {},
   "source": [
    "## Grid Search\n",
    "\n",
    "Grid Search performs the search for the best values of the parameters in the specified search space and outputs the combination of parameter values that optimize the specified score function.\n",
    "\n",
    "The `GridSearchCV` function of the `model_selection` module of Scikit-Learn performs the grid search using cross validation."
   ]
  },
  {
   "cell_type": "markdown",
   "id": "finished-operations",
   "metadata": {},
   "source": [
    "### Hyper parameter tuning for KNN Classifier\n",
    "\n",
    "We will fine tune the hyper parameters of KNN classifier for the classification problem involving the Breast Cancer data.\n",
    "\n",
    "Recall that hyper parameter tuning should be carried out only using the training data."
   ]
  },
  {
   "cell_type": "code",
   "execution_count": 2,
   "id": "textile-finish",
   "metadata": {},
   "outputs": [],
   "source": [
    "from sklearn.model_selection import train_test_split\n",
    "from sklearn.model_selection import GridSearchCV\n",
    "from sklearn import datasets\n",
    "bc = datasets.load_breast_cancer()\n",
    "X = bc.data\n",
    "y = 1 - bc.target\n",
    "X_train, X_test, y_train, y_test = train_test_split(X, y, test_size=0.33, random_state = 854987)"
   ]
  },
  {
   "cell_type": "markdown",
   "id": "c8fd2050",
   "metadata": {},
   "source": [
    "We need to specify the grid for performing the grid search. The grid can be specified as the `param_grid` argument to the function implementing grid search (`GridSearchCV` in this case). `param_grid` argument is a dict object with the parameters as the keys."
   ]
  },
  {
   "cell_type": "code",
   "execution_count": 3,
   "id": "7d2f8f22",
   "metadata": {},
   "outputs": [
    {
     "data": {
      "text/plain": [
       "GridSearchCV(estimator=KNeighborsClassifier(),\n",
       "             param_grid={'n_neighbors': range(1, 20)}, scoring='precision')"
      ]
     },
     "execution_count": 3,
     "metadata": {},
     "output_type": "execute_result"
    }
   ],
   "source": [
    "param_grid = {'n_neighbors':range(1,20)}\n",
    "GS = GridSearchCV(KNeighborsClassifier(), param_grid, scoring = 'precision')\n",
    "GS.fit(X_train, y_train)"
   ]
  },
  {
   "cell_type": "markdown",
   "id": "bdf98b1f",
   "metadata": {},
   "source": [
    "The `fit` method of `GridSearchCV` performs the grid search. Once the grid search is performed, the optimal hyper parameter values are available in the `best_params_` attribute, a dict object."
   ]
  },
  {
   "cell_type": "code",
   "execution_count": 4,
   "id": "mathematical-foundation",
   "metadata": {},
   "outputs": [
    {
     "data": {
      "text/plain": [
       "{'n_neighbors': 2}"
      ]
     },
     "execution_count": 4,
     "metadata": {},
     "output_type": "execute_result"
    }
   ],
   "source": [
    "GS.best_params_"
   ]
  },
  {
   "cell_type": "markdown",
   "id": "b14cebff",
   "metadata": {},
   "source": [
    "The optimal performance achieved, as measured using the specified `scoring` method, in the `best_score_` attribute."
   ]
  },
  {
   "cell_type": "code",
   "execution_count": 5,
   "id": "appropriate-intro",
   "metadata": {},
   "outputs": [
    {
     "data": {
      "text/plain": [
       "0.9698005698005698"
      ]
     },
     "execution_count": 5,
     "metadata": {},
     "output_type": "execute_result"
    }
   ],
   "source": [
    "GS.best_score_"
   ]
  },
  {
   "cell_type": "markdown",
   "id": "3e7b47c1",
   "metadata": {},
   "source": [
    "The detailed results of the grid search are available in the `cv_results_` attribute, which can be converted in pandas DataFrame as shown below."
   ]
  },
  {
   "cell_type": "code",
   "execution_count": 6,
   "id": "c7771cda",
   "metadata": {},
   "outputs": [
    {
     "data": {
      "text/html": [
       "<div>\n",
       "<style scoped>\n",
       "    .dataframe tbody tr th:only-of-type {\n",
       "        vertical-align: middle;\n",
       "    }\n",
       "\n",
       "    .dataframe tbody tr th {\n",
       "        vertical-align: top;\n",
       "    }\n",
       "\n",
       "    .dataframe thead th {\n",
       "        text-align: right;\n",
       "    }\n",
       "</style>\n",
       "<table border=\"1\" class=\"dataframe\">\n",
       "  <thead>\n",
       "    <tr style=\"text-align: right;\">\n",
       "      <th></th>\n",
       "      <th>mean_fit_time</th>\n",
       "      <th>std_fit_time</th>\n",
       "      <th>mean_score_time</th>\n",
       "      <th>std_score_time</th>\n",
       "      <th>param_n_neighbors</th>\n",
       "      <th>params</th>\n",
       "      <th>split0_test_score</th>\n",
       "      <th>split1_test_score</th>\n",
       "      <th>split2_test_score</th>\n",
       "      <th>split3_test_score</th>\n",
       "      <th>split4_test_score</th>\n",
       "      <th>mean_test_score</th>\n",
       "      <th>std_test_score</th>\n",
       "      <th>rank_test_score</th>\n",
       "    </tr>\n",
       "  </thead>\n",
       "  <tbody>\n",
       "    <tr>\n",
       "      <th>0</th>\n",
       "      <td>0.001399</td>\n",
       "      <td>4.889087e-04</td>\n",
       "      <td>0.017189</td>\n",
       "      <td>0.006550</td>\n",
       "      <td>1</td>\n",
       "      <td>{'n_neighbors': 1}</td>\n",
       "      <td>1.000000</td>\n",
       "      <td>0.928571</td>\n",
       "      <td>0.960000</td>\n",
       "      <td>0.888889</td>\n",
       "      <td>0.787879</td>\n",
       "      <td>0.913068</td>\n",
       "      <td>0.072467</td>\n",
       "      <td>19</td>\n",
       "    </tr>\n",
       "    <tr>\n",
       "      <th>1</th>\n",
       "      <td>0.000400</td>\n",
       "      <td>4.897457e-04</td>\n",
       "      <td>0.009195</td>\n",
       "      <td>0.001938</td>\n",
       "      <td>2</td>\n",
       "      <td>{'n_neighbors': 2}</td>\n",
       "      <td>1.000000</td>\n",
       "      <td>1.000000</td>\n",
       "      <td>1.000000</td>\n",
       "      <td>0.923077</td>\n",
       "      <td>0.925926</td>\n",
       "      <td>0.969801</td>\n",
       "      <td>0.036998</td>\n",
       "      <td>1</td>\n",
       "    </tr>\n",
       "    <tr>\n",
       "      <th>2</th>\n",
       "      <td>0.000801</td>\n",
       "      <td>4.004503e-04</td>\n",
       "      <td>0.009792</td>\n",
       "      <td>0.001599</td>\n",
       "      <td>3</td>\n",
       "      <td>{'n_neighbors': 3}</td>\n",
       "      <td>1.000000</td>\n",
       "      <td>0.964286</td>\n",
       "      <td>0.961538</td>\n",
       "      <td>0.923077</td>\n",
       "      <td>0.787879</td>\n",
       "      <td>0.927356</td>\n",
       "      <td>0.073867</td>\n",
       "      <td>18</td>\n",
       "    </tr>\n",
       "    <tr>\n",
       "      <th>3</th>\n",
       "      <td>0.001200</td>\n",
       "      <td>3.998524e-04</td>\n",
       "      <td>0.009794</td>\n",
       "      <td>0.001938</td>\n",
       "      <td>4</td>\n",
       "      <td>{'n_neighbors': 4}</td>\n",
       "      <td>1.000000</td>\n",
       "      <td>1.000000</td>\n",
       "      <td>1.000000</td>\n",
       "      <td>0.923077</td>\n",
       "      <td>0.892857</td>\n",
       "      <td>0.963187</td>\n",
       "      <td>0.046088</td>\n",
       "      <td>2</td>\n",
       "    </tr>\n",
       "    <tr>\n",
       "      <th>4</th>\n",
       "      <td>0.000999</td>\n",
       "      <td>6.321081e-04</td>\n",
       "      <td>0.008595</td>\n",
       "      <td>0.001019</td>\n",
       "      <td>5</td>\n",
       "      <td>{'n_neighbors': 5}</td>\n",
       "      <td>0.958333</td>\n",
       "      <td>1.000000</td>\n",
       "      <td>0.960000</td>\n",
       "      <td>0.923077</td>\n",
       "      <td>0.866667</td>\n",
       "      <td>0.941615</td>\n",
       "      <td>0.044693</td>\n",
       "      <td>17</td>\n",
       "    </tr>\n",
       "    <tr>\n",
       "      <th>5</th>\n",
       "      <td>0.001199</td>\n",
       "      <td>3.995896e-04</td>\n",
       "      <td>0.009394</td>\n",
       "      <td>0.001356</td>\n",
       "      <td>6</td>\n",
       "      <td>{'n_neighbors': 6}</td>\n",
       "      <td>0.958333</td>\n",
       "      <td>1.000000</td>\n",
       "      <td>1.000000</td>\n",
       "      <td>0.923077</td>\n",
       "      <td>0.920000</td>\n",
       "      <td>0.960282</td>\n",
       "      <td>0.035116</td>\n",
       "      <td>13</td>\n",
       "    </tr>\n",
       "    <tr>\n",
       "      <th>6</th>\n",
       "      <td>0.000799</td>\n",
       "      <td>3.996853e-04</td>\n",
       "      <td>0.009994</td>\n",
       "      <td>0.002279</td>\n",
       "      <td>7</td>\n",
       "      <td>{'n_neighbors': 7}</td>\n",
       "      <td>0.958333</td>\n",
       "      <td>0.964286</td>\n",
       "      <td>1.000000</td>\n",
       "      <td>0.923077</td>\n",
       "      <td>0.920000</td>\n",
       "      <td>0.953139</td>\n",
       "      <td>0.029493</td>\n",
       "      <td>15</td>\n",
       "    </tr>\n",
       "    <tr>\n",
       "      <th>7</th>\n",
       "      <td>0.001000</td>\n",
       "      <td>1.480501e-06</td>\n",
       "      <td>0.009793</td>\n",
       "      <td>0.002314</td>\n",
       "      <td>8</td>\n",
       "      <td>{'n_neighbors': 8}</td>\n",
       "      <td>1.000000</td>\n",
       "      <td>0.964286</td>\n",
       "      <td>1.000000</td>\n",
       "      <td>0.923077</td>\n",
       "      <td>0.920000</td>\n",
       "      <td>0.961473</td>\n",
       "      <td>0.035131</td>\n",
       "      <td>3</td>\n",
       "    </tr>\n",
       "    <tr>\n",
       "      <th>8</th>\n",
       "      <td>0.001199</td>\n",
       "      <td>3.993279e-04</td>\n",
       "      <td>0.010393</td>\n",
       "      <td>0.001199</td>\n",
       "      <td>9</td>\n",
       "      <td>{'n_neighbors': 9}</td>\n",
       "      <td>1.000000</td>\n",
       "      <td>0.964286</td>\n",
       "      <td>1.000000</td>\n",
       "      <td>0.923077</td>\n",
       "      <td>0.888889</td>\n",
       "      <td>0.955250</td>\n",
       "      <td>0.043648</td>\n",
       "      <td>14</td>\n",
       "    </tr>\n",
       "    <tr>\n",
       "      <th>9</th>\n",
       "      <td>0.001000</td>\n",
       "      <td>1.377061e-06</td>\n",
       "      <td>0.009194</td>\n",
       "      <td>0.001936</td>\n",
       "      <td>10</td>\n",
       "      <td>{'n_neighbors': 10}</td>\n",
       "      <td>1.000000</td>\n",
       "      <td>0.962963</td>\n",
       "      <td>1.000000</td>\n",
       "      <td>0.923077</td>\n",
       "      <td>0.920000</td>\n",
       "      <td>0.961208</td>\n",
       "      <td>0.035114</td>\n",
       "      <td>4</td>\n",
       "    </tr>\n",
       "    <tr>\n",
       "      <th>10</th>\n",
       "      <td>0.000999</td>\n",
       "      <td>1.152329e-06</td>\n",
       "      <td>0.010994</td>\n",
       "      <td>0.001672</td>\n",
       "      <td>11</td>\n",
       "      <td>{'n_neighbors': 11}</td>\n",
       "      <td>0.958333</td>\n",
       "      <td>0.962963</td>\n",
       "      <td>1.000000</td>\n",
       "      <td>0.923077</td>\n",
       "      <td>0.920000</td>\n",
       "      <td>0.952875</td>\n",
       "      <td>0.029397</td>\n",
       "      <td>16</td>\n",
       "    </tr>\n",
       "    <tr>\n",
       "      <th>11</th>\n",
       "      <td>0.000600</td>\n",
       "      <td>4.899794e-04</td>\n",
       "      <td>0.009793</td>\n",
       "      <td>0.002135</td>\n",
       "      <td>12</td>\n",
       "      <td>{'n_neighbors': 12}</td>\n",
       "      <td>1.000000</td>\n",
       "      <td>0.961538</td>\n",
       "      <td>1.000000</td>\n",
       "      <td>0.923077</td>\n",
       "      <td>0.920000</td>\n",
       "      <td>0.960923</td>\n",
       "      <td>0.035104</td>\n",
       "      <td>9</td>\n",
       "    </tr>\n",
       "    <tr>\n",
       "      <th>12</th>\n",
       "      <td>0.001000</td>\n",
       "      <td>6.572747e-07</td>\n",
       "      <td>0.007995</td>\n",
       "      <td>0.000633</td>\n",
       "      <td>13</td>\n",
       "      <td>{'n_neighbors': 13}</td>\n",
       "      <td>1.000000</td>\n",
       "      <td>0.962963</td>\n",
       "      <td>1.000000</td>\n",
       "      <td>0.923077</td>\n",
       "      <td>0.920000</td>\n",
       "      <td>0.961208</td>\n",
       "      <td>0.035114</td>\n",
       "      <td>4</td>\n",
       "    </tr>\n",
       "    <tr>\n",
       "      <th>13</th>\n",
       "      <td>0.000999</td>\n",
       "      <td>7.136645e-07</td>\n",
       "      <td>0.009394</td>\n",
       "      <td>0.001626</td>\n",
       "      <td>14</td>\n",
       "      <td>{'n_neighbors': 14}</td>\n",
       "      <td>1.000000</td>\n",
       "      <td>0.961538</td>\n",
       "      <td>1.000000</td>\n",
       "      <td>0.923077</td>\n",
       "      <td>0.920000</td>\n",
       "      <td>0.960923</td>\n",
       "      <td>0.035104</td>\n",
       "      <td>9</td>\n",
       "    </tr>\n",
       "    <tr>\n",
       "      <th>14</th>\n",
       "      <td>0.000799</td>\n",
       "      <td>3.997331e-04</td>\n",
       "      <td>0.010794</td>\n",
       "      <td>0.001938</td>\n",
       "      <td>15</td>\n",
       "      <td>{'n_neighbors': 15}</td>\n",
       "      <td>1.000000</td>\n",
       "      <td>0.962963</td>\n",
       "      <td>1.000000</td>\n",
       "      <td>0.923077</td>\n",
       "      <td>0.920000</td>\n",
       "      <td>0.961208</td>\n",
       "      <td>0.035114</td>\n",
       "      <td>4</td>\n",
       "    </tr>\n",
       "    <tr>\n",
       "      <th>15</th>\n",
       "      <td>0.001201</td>\n",
       "      <td>4.009969e-04</td>\n",
       "      <td>0.009592</td>\n",
       "      <td>0.002056</td>\n",
       "      <td>16</td>\n",
       "      <td>{'n_neighbors': 16}</td>\n",
       "      <td>1.000000</td>\n",
       "      <td>0.962963</td>\n",
       "      <td>1.000000</td>\n",
       "      <td>0.923077</td>\n",
       "      <td>0.920000</td>\n",
       "      <td>0.961208</td>\n",
       "      <td>0.035114</td>\n",
       "      <td>4</td>\n",
       "    </tr>\n",
       "    <tr>\n",
       "      <th>16</th>\n",
       "      <td>0.001199</td>\n",
       "      <td>7.480481e-04</td>\n",
       "      <td>0.009994</td>\n",
       "      <td>0.001896</td>\n",
       "      <td>17</td>\n",
       "      <td>{'n_neighbors': 17}</td>\n",
       "      <td>1.000000</td>\n",
       "      <td>0.962963</td>\n",
       "      <td>1.000000</td>\n",
       "      <td>0.923077</td>\n",
       "      <td>0.920000</td>\n",
       "      <td>0.961208</td>\n",
       "      <td>0.035114</td>\n",
       "      <td>4</td>\n",
       "    </tr>\n",
       "    <tr>\n",
       "      <th>17</th>\n",
       "      <td>0.001199</td>\n",
       "      <td>3.995662e-04</td>\n",
       "      <td>0.010993</td>\n",
       "      <td>0.001413</td>\n",
       "      <td>18</td>\n",
       "      <td>{'n_neighbors': 18}</td>\n",
       "      <td>1.000000</td>\n",
       "      <td>0.960000</td>\n",
       "      <td>1.000000</td>\n",
       "      <td>0.923077</td>\n",
       "      <td>0.920000</td>\n",
       "      <td>0.960615</td>\n",
       "      <td>0.035104</td>\n",
       "      <td>11</td>\n",
       "    </tr>\n",
       "    <tr>\n",
       "      <th>18</th>\n",
       "      <td>0.000999</td>\n",
       "      <td>6.319574e-04</td>\n",
       "      <td>0.010194</td>\n",
       "      <td>0.002314</td>\n",
       "      <td>19</td>\n",
       "      <td>{'n_neighbors': 19}</td>\n",
       "      <td>1.000000</td>\n",
       "      <td>0.960000</td>\n",
       "      <td>1.000000</td>\n",
       "      <td>0.923077</td>\n",
       "      <td>0.920000</td>\n",
       "      <td>0.960615</td>\n",
       "      <td>0.035104</td>\n",
       "      <td>11</td>\n",
       "    </tr>\n",
       "  </tbody>\n",
       "</table>\n",
       "</div>"
      ],
      "text/plain": [
       "    mean_fit_time  std_fit_time  mean_score_time  std_score_time  \\\n",
       "0        0.001399  4.889087e-04         0.017189        0.006550   \n",
       "1        0.000400  4.897457e-04         0.009195        0.001938   \n",
       "2        0.000801  4.004503e-04         0.009792        0.001599   \n",
       "3        0.001200  3.998524e-04         0.009794        0.001938   \n",
       "4        0.000999  6.321081e-04         0.008595        0.001019   \n",
       "5        0.001199  3.995896e-04         0.009394        0.001356   \n",
       "6        0.000799  3.996853e-04         0.009994        0.002279   \n",
       "7        0.001000  1.480501e-06         0.009793        0.002314   \n",
       "8        0.001199  3.993279e-04         0.010393        0.001199   \n",
       "9        0.001000  1.377061e-06         0.009194        0.001936   \n",
       "10       0.000999  1.152329e-06         0.010994        0.001672   \n",
       "11       0.000600  4.899794e-04         0.009793        0.002135   \n",
       "12       0.001000  6.572747e-07         0.007995        0.000633   \n",
       "13       0.000999  7.136645e-07         0.009394        0.001626   \n",
       "14       0.000799  3.997331e-04         0.010794        0.001938   \n",
       "15       0.001201  4.009969e-04         0.009592        0.002056   \n",
       "16       0.001199  7.480481e-04         0.009994        0.001896   \n",
       "17       0.001199  3.995662e-04         0.010993        0.001413   \n",
       "18       0.000999  6.319574e-04         0.010194        0.002314   \n",
       "\n",
       "   param_n_neighbors               params  split0_test_score  \\\n",
       "0                  1   {'n_neighbors': 1}           1.000000   \n",
       "1                  2   {'n_neighbors': 2}           1.000000   \n",
       "2                  3   {'n_neighbors': 3}           1.000000   \n",
       "3                  4   {'n_neighbors': 4}           1.000000   \n",
       "4                  5   {'n_neighbors': 5}           0.958333   \n",
       "5                  6   {'n_neighbors': 6}           0.958333   \n",
       "6                  7   {'n_neighbors': 7}           0.958333   \n",
       "7                  8   {'n_neighbors': 8}           1.000000   \n",
       "8                  9   {'n_neighbors': 9}           1.000000   \n",
       "9                 10  {'n_neighbors': 10}           1.000000   \n",
       "10                11  {'n_neighbors': 11}           0.958333   \n",
       "11                12  {'n_neighbors': 12}           1.000000   \n",
       "12                13  {'n_neighbors': 13}           1.000000   \n",
       "13                14  {'n_neighbors': 14}           1.000000   \n",
       "14                15  {'n_neighbors': 15}           1.000000   \n",
       "15                16  {'n_neighbors': 16}           1.000000   \n",
       "16                17  {'n_neighbors': 17}           1.000000   \n",
       "17                18  {'n_neighbors': 18}           1.000000   \n",
       "18                19  {'n_neighbors': 19}           1.000000   \n",
       "\n",
       "    split1_test_score  split2_test_score  split3_test_score  \\\n",
       "0            0.928571           0.960000           0.888889   \n",
       "1            1.000000           1.000000           0.923077   \n",
       "2            0.964286           0.961538           0.923077   \n",
       "3            1.000000           1.000000           0.923077   \n",
       "4            1.000000           0.960000           0.923077   \n",
       "5            1.000000           1.000000           0.923077   \n",
       "6            0.964286           1.000000           0.923077   \n",
       "7            0.964286           1.000000           0.923077   \n",
       "8            0.964286           1.000000           0.923077   \n",
       "9            0.962963           1.000000           0.923077   \n",
       "10           0.962963           1.000000           0.923077   \n",
       "11           0.961538           1.000000           0.923077   \n",
       "12           0.962963           1.000000           0.923077   \n",
       "13           0.961538           1.000000           0.923077   \n",
       "14           0.962963           1.000000           0.923077   \n",
       "15           0.962963           1.000000           0.923077   \n",
       "16           0.962963           1.000000           0.923077   \n",
       "17           0.960000           1.000000           0.923077   \n",
       "18           0.960000           1.000000           0.923077   \n",
       "\n",
       "    split4_test_score  mean_test_score  std_test_score  rank_test_score  \n",
       "0            0.787879         0.913068        0.072467               19  \n",
       "1            0.925926         0.969801        0.036998                1  \n",
       "2            0.787879         0.927356        0.073867               18  \n",
       "3            0.892857         0.963187        0.046088                2  \n",
       "4            0.866667         0.941615        0.044693               17  \n",
       "5            0.920000         0.960282        0.035116               13  \n",
       "6            0.920000         0.953139        0.029493               15  \n",
       "7            0.920000         0.961473        0.035131                3  \n",
       "8            0.888889         0.955250        0.043648               14  \n",
       "9            0.920000         0.961208        0.035114                4  \n",
       "10           0.920000         0.952875        0.029397               16  \n",
       "11           0.920000         0.960923        0.035104                9  \n",
       "12           0.920000         0.961208        0.035114                4  \n",
       "13           0.920000         0.960923        0.035104                9  \n",
       "14           0.920000         0.961208        0.035114                4  \n",
       "15           0.920000         0.961208        0.035114                4  \n",
       "16           0.920000         0.961208        0.035114                4  \n",
       "17           0.920000         0.960615        0.035104               11  \n",
       "18           0.920000         0.960615        0.035104               11  "
      ]
     },
     "execution_count": 6,
     "metadata": {},
     "output_type": "execute_result"
    }
   ],
   "source": [
    "import pandas as pd\n",
    "gsResult = pd.DataFrame(GS.cv_results_)\n",
    "gsResult"
   ]
  },
  {
   "cell_type": "code",
   "execution_count": 7,
   "id": "2f676820",
   "metadata": {},
   "outputs": [
    {
     "data": {
      "text/plain": [
       "<AxesSubplot:xlabel='param_n_neighbors'>"
      ]
     },
     "execution_count": 7,
     "metadata": {},
     "output_type": "execute_result"
    },
    {
     "data": {
      "image/png": "[encoded data removed]",
      "text/plain": [
       "<Figure size 432x288 with 1 Axes>"
      ]
     },
     "metadata": {
      "needs_background": "light"
     },
     "output_type": "display_data"
    }
   ],
   "source": [
    "gsResult.plot('param_n_neighbors', 'mean_test_score')"
   ]
  },
  {
   "cell_type": "markdown",
   "id": "451adab9",
   "metadata": {},
   "source": [
    "### Use the Optimal hyper parameter\n",
    "\n",
    "Once the hyper parameter is fine tuned. We can use it for the chosen classifier `KNeighborsClassifier` as shown below."
   ]
  },
  {
   "cell_type": "code",
   "execution_count": 8,
   "id": "692cfa70",
   "metadata": {},
   "outputs": [
    {
     "data": {
      "text/plain": [
       "0.921875"
      ]
     },
     "execution_count": 8,
     "metadata": {},
     "output_type": "execute_result"
    }
   ],
   "source": [
    "from sklearn.metrics import precision_score\n",
    "KNNClassifier = KNeighborsClassifier(n_neighbors=2)\n",
    "KNNClassifier.fit(X_train, y_train)\n",
    "y_pred = KNNClassifier.predict(X_test)\n",
    "precision_score(y_test, y_pred)"
   ]
  },
  {
   "cell_type": "markdown",
   "id": "5b0520b6",
   "metadata": {},
   "source": [
    "### Exercise\n",
    "Use `wine` data set to perform wine classification using KNN Classification."
   ]
  }
 ],
 "metadata": {
  "kernelspec": {
   "display_name": "Python 3 (ipykernel)",
   "language": "python",
   "name": "python3"
  },
  "language_info": {
   "codemirror_mode": {
    "name": "ipython",
    "version": 3
   },
   "file_extension": ".py",
   "mimetype": "text/x-python",
   "name": "python",
   "nbconvert_exporter": "python",
   "pygments_lexer": "ipython3",
   "version": "3.8.11"
  }
 },
 "nbformat": 4,
 "nbformat_minor": 5
}
