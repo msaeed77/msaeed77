{
 "cells": [
  {
   "cell_type": "markdown",
   "metadata": {},
   "source": [
    "# Evaluating Performance of Linear Regression \n",
    "\n",
    "This is the same example considered earlier for linear regression lerner. \n",
    "\n",
    "First we import the modules and functions that will be used in the code."
   ]
  },
  {
   "cell_type": "code",
   "execution_count": 1,
   "metadata": {},
   "outputs": [],
   "source": [
    "%matplotlib inline\n",
    "import matplotlib.pyplot as plt \n",
    "import numpy as np                         \n",
    "from sklearn import datasets      \n",
    "from sklearn import linear_model  \n",
    "from sklearn.metrics import mean_squared_error, r2_score  \n",
    "\n",
    "diabetes = datasets.load_diabetes()\n",
    "X = diabetes.data[:, np.newaxis, 2] # Select 3rd feature 'bmi' as the Feature and retain ndim=2\n",
    "y = diabetes.target"
   ]
  },
  {
   "cell_type": "markdown",
   "metadata": {},
   "source": [
    "## Holdout Method\n",
    "\n",
    "First, we will use *Holdout Method* for evaluating model performance. For this purpose,\n",
    "unlike in the previous example, we need to split the available data into 'training data' and 'test data' \n",
    "**at random** using the library function designed for this purpose.\n",
    "\n",
    "### The `train_test_split` function\n",
    "\n",
    "The `model_selection` module of Scikit Learn provides `train_test_split` function to randomly split the available data into ***training data*** and ***test data***."
   ]
  },
  {
   "cell_type": "code",
   "execution_count": 2,
   "metadata": {},
   "outputs": [],
   "source": [
    "# Conventionally 33% of the data is randomly selected as test data  \n",
    "from sklearn.model_selection import train_test_split  #Function to split the data randomly\n",
    "X_train, X_test, y_train, y_test = train_test_split(X, y, test_size=0.33)"
   ]
  },
  {
   "cell_type": "code",
   "execution_count": 3,
   "metadata": {},
   "outputs": [
    {
     "data": {
      "text/plain": [
       "array([[ 0.01427248],\n",
       "       [ 0.01535029],\n",
       "       [ 0.01535029],\n",
       "       [-0.02991782],\n",
       "       [ 0.05415152]])"
      ]
     },
     "execution_count": 3,
     "metadata": {},
     "output_type": "execute_result"
    }
   ],
   "source": [
    "X_train[:5]"
   ]
  },
  {
   "cell_type": "markdown",
   "metadata": {},
   "source": [
    "Now, we select and train the `LinearRegression` learner (Estimator object, in Scikit-Learn terminology) using training dataset."
   ]
  },
  {
   "cell_type": "code",
   "execution_count": 4,
   "metadata": {},
   "outputs": [
    {
     "name": "stdout",
     "output_type": "stream",
     "text": [
      "The learned regression model is:\n",
      "\n",
      "Target = 152.10 + 975.03*bmi\n",
      "Test Mean squared error: 4523.57\n",
      "Trest R Squared: 0.28\n"
     ]
    }
   ],
   "source": [
    "LReg = linear_model.LinearRegression() # LReg is the Estimator object\n",
    "LReg.fit(X_train, y_train)\n",
    "y_pred = LReg.predict(X_test)\n",
    "\n",
    "print('The learned regression model is:\\n')\n",
    "print('Target = %.2f + %.2f*%s'%(LReg.intercept_, LReg.coef_, diabetes.feature_names[2]))\n",
    "# The mean squared error for Test data\n",
    "print(\"Test Mean squared error: %.2f\" % mean_squared_error(y_test, y_pred))\n",
    "\n",
    "# Explained variance score for Test data \n",
    "print('Trest R Squared: %.2f' % r2_score(y_test, y_pred))"
   ]
  },
  {
   "cell_type": "code",
   "execution_count": 5,
   "metadata": {},
   "outputs": [
    {
     "data": {
      "text/plain": [
       "[<matplotlib.lines.Line2D at 0x24f9f566df0>]"
      ]
     },
     "execution_count": 5,
     "metadata": {},
     "output_type": "execute_result"
    },
    {
     "data": {
      "image/png": "[encoded data removed]",
      "text/plain": [
       "<Figure size 432x288 with 1 Axes>"
      ]
     },
     "metadata": {
      "needs_background": "light"
     },
     "output_type": "display_data"
    }
   ],
   "source": [
    "plt.scatter(X_test, y_test, color = 'k') \n",
    "plt.plot(X_test, y_pred, color='blue', linewidth=2) "
   ]
  },
  {
   "cell_type": "markdown",
   "metadata": {},
   "source": [
    "Of course the 'R square' value is not satisfactory in this example, \n",
    "indicating that a better learner must be determined before we deploy (start using in real applications) the learner.\n",
    "\n",
    "Once the learner is found to be satisfactory after its evaluation, we can improve the learner by utilizing all available data for training. However, performance of this improved learner will be possoble to measure only over the period of time."
   ]
  },
  {
   "cell_type": "code",
   "execution_count": 6,
   "metadata": {},
   "outputs": [
    {
     "name": "stdout",
     "output_type": "stream",
     "text": [
      "The improved regression model is:\n",
      "\n",
      "Target = 152.13 + 949.44*bmi\n"
     ]
    }
   ],
   "source": [
    "LRegI = linear_model.LinearRegression() # LRegI is the improved estimator \n",
    "LRegI.fit(X, y)  # Train\n",
    "print('The improved regression model is:\\n')\n",
    "print('Target = %.2f + %.2f*%s'%(LRegI.intercept_, LRegI.coef_, diabetes.feature_names[2]))"
   ]
  },
  {
   "cell_type": "markdown",
   "metadata": {},
   "source": [
    "## K-Fold Cross Validation\n",
    "\n",
    "***Cross Validation*** is a more reliable method of performance evaluation than the holdout method. We will use the `cross_validate` function to evaluate the estimator using cross validation method."
   ]
  },
  {
   "cell_type": "code",
   "execution_count": 7,
   "metadata": {},
   "outputs": [
    {
     "data": {
      "text/plain": [
       "array([0.37262538, 0.32245678, 0.20936441, 0.25350564, 0.4482771 ,\n",
       "       0.36569694])"
      ]
     },
     "execution_count": 7,
     "metadata": {},
     "output_type": "execute_result"
    }
   ],
   "source": [
    "from sklearn.model_selection import KFold, cross_validate  #Function to compute cross validation score\n",
    "LRegCV = linear_model.LinearRegression() # Instantiate the estimator\n",
    "kf = KFold(6, shuffle = True)\n",
    "cvResult = cross_validate (LRegCV, X, y, cv = kf) # Use kf as the cross validator\n",
    "score = cvResult['test_score']\n",
    "score"
   ]
  },
  {
   "cell_type": "markdown",
   "metadata": {},
   "source": [
    "The average score is taken as an estimate of the estimator's performance. "
   ]
  },
  {
   "cell_type": "code",
   "execution_count": 8,
   "metadata": {},
   "outputs": [
    {
     "name": "stdout",
     "output_type": "stream",
     "text": [
      "Average performance is 0.3287.\n"
     ]
    }
   ],
   "source": [
    "performance = score.mean()\n",
    "print('Average performance is %.4f.'% performance)"
   ]
  },
  {
   "cell_type": "markdown",
   "metadata": {},
   "source": [
    "Thus, the trained estimator is capable of explaining 32.44% of the variation of the target. Note that 32.44% is the estimated performance of the trained estimator.\n",
    "\n",
    "If this eatimated performance is found to be satisfactory, the estimator is trained using the entire training dataset before it is deployed.\n",
    "\n",
    "\n",
    "The scores computed by `cross_validate` is determined by the `score` method of the estimator. For LinearRegression estimator the `score` method computes $R^2$ statistic (Coefficient of determination). \n",
    "\n",
    "To know the `score` method for other estimators, see the help on `score` method of the estimator.\n",
    "\n",
    "### Using a scoring argument \n",
    "\n",
    "It is possible to use a different score than the one specified by the `score` method of the estimator. For this purpose we need to specify the `scoring` parameter in the call to `cross_validate` function. \n",
    "\n",
    "The specified value of `scoring` argument must be either a `scorer` object or a string specificaton of a readily available `scorer` object. "
   ]
  },
  {
   "cell_type": "code",
   "execution_count": 9,
   "metadata": {},
   "outputs": [
    {
     "data": {
      "text/plain": [
       "{'fit_time': array([0.01698804, 0.00999355, 0.00199771, 0.0029974 , 0.0009985 ,\n",
       "        0.00399756]),\n",
       " 'score_time': array([0.00099969, 0.00099897, 0.0010016 , 0.00200009, 0.0010004 ,\n",
       "        0.00099921]),\n",
       " 'test_score': array([-52.11136716, -55.34093831, -49.44955671, -63.11571998,\n",
       "        -45.01728927, -47.17871784])}"
      ]
     },
     "execution_count": 9,
     "metadata": {},
     "output_type": "execute_result"
    }
   ],
   "source": [
    "cross_validate(LRegCV, X, y, cv = kf, scoring = 'neg_mean_absolute_error')"
   ]
  },
  {
   "cell_type": "markdown",
   "metadata": {},
   "source": [
    "The list of readily available scorer objects can be seen as shown below."
   ]
  },
  {
   "cell_type": "code",
   "execution_count": 10,
   "metadata": {},
   "outputs": [
    {
     "data": {
      "text/plain": [
       "dict_keys(['explained_variance', 'r2', 'max_error', 'neg_median_absolute_error', 'neg_mean_absolute_error', 'neg_mean_absolute_percentage_error', 'neg_mean_squared_error', 'neg_mean_squared_log_error', 'neg_root_mean_squared_error', 'neg_mean_poisson_deviance', 'neg_mean_gamma_deviance', 'accuracy', 'top_k_accuracy', 'roc_auc', 'roc_auc_ovr', 'roc_auc_ovo', 'roc_auc_ovr_weighted', 'roc_auc_ovo_weighted', 'balanced_accuracy', 'average_precision', 'neg_log_loss', 'neg_brier_score', 'adjusted_rand_score', 'rand_score', 'homogeneity_score', 'completeness_score', 'v_measure_score', 'mutual_info_score', 'adjusted_mutual_info_score', 'normalized_mutual_info_score', 'fowlkes_mallows_score', 'precision', 'precision_macro', 'precision_micro', 'precision_samples', 'precision_weighted', 'recall', 'recall_macro', 'recall_micro', 'recall_samples', 'recall_weighted', 'f1', 'f1_macro', 'f1_micro', 'f1_samples', 'f1_weighted', 'jaccard', 'jaccard_macro', 'jaccard_micro', 'jaccard_samples', 'jaccard_weighted'])"
      ]
     },
     "execution_count": 10,
     "metadata": {},
     "output_type": "execute_result"
    }
   ],
   "source": [
    "from sklearn.metrics import SCORERS\n",
    "SCORERS.keys()  # SCORERS is a dict object"
   ]
  },
  {
   "cell_type": "markdown",
   "metadata": {},
   "source": [
    "Its important to note that every `scorer` listed above is not suitable for every Learner.\n",
    "\n",
    "For more information visit https://scikit-learn.org/stable/modules/model_evaluation.html#the-scoring-parameter-defining-model-evaluation-rules"
   ]
  },
  {
   "cell_type": "markdown",
   "metadata": {},
   "source": [
    "### Creating a custom scorer object\n",
    "It is also possible to create a custom scorer object using `make_scorer` function of `sklearn.metrics` module. The scorer object created this way can be used as value for `scoring` parameter of `cross_validate`.\n",
    "\n",
    "#### Homework\n",
    "\n",
    "1. Explore cross-validators other than `KFold` that are available in the `model_selection` module.\n",
    "2. Study the help on `make_scorer` function to understand how to develop a custom scorer object.\n",
    "3. Also See `cross_val_score` function that provides a simple approach of using cross validation."
   ]
  }
 ],
 "metadata": {
  "kernelspec": {
   "display_name": "Python 3",
   "language": "python",
   "name": "python3"
  },
  "language_info": {
   "codemirror_mode": {
    "name": "ipython",
    "version": 3
   },
   "file_extension": ".py",
   "mimetype": "text/x-python",
   "name": "python",
   "nbconvert_exporter": "python",
   "pygments_lexer": "ipython3",
   "version": "3.8.5"
  }
 },
 "nbformat": 4,
 "nbformat_minor": 1
}
