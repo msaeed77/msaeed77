{
 "cells": [
  {
   "cell_type": "markdown",
   "metadata": {},
   "source": [
    "\n",
    "# Naive Bayes Classifier\n",
    "\n",
    "\n",
    "In this exercise We will perform classification of plants into one of the species based on the Iris datase as the training data. We use `GaussianNB` classifier."
   ]
  },
  {
   "cell_type": "code",
   "execution_count": 1,
   "metadata": {},
   "outputs": [],
   "source": [
    "%matplotlib inline"
   ]
  },
  {
   "cell_type": "code",
   "execution_count": 2,
   "metadata": {},
   "outputs": [
    {
     "data": {
      "text/plain": [
       "['sepal length (cm)',\n",
       " 'sepal width (cm)',\n",
       " 'petal length (cm)',\n",
       " 'petal width (cm)']"
      ]
     },
     "execution_count": 2,
     "metadata": {},
     "output_type": "execute_result"
    }
   ],
   "source": [
    "import numpy as np\n",
    "import matplotlib.pyplot as plt\n",
    "\n",
    "from sklearn import datasets\n",
    "from sklearn.naive_bayes import GaussianNB   # The classifier assumes normal distribution for the numerical features.\n",
    "from sklearn.model_selection import train_test_split\n",
    "\n",
    "# Loading example data\n",
    "iris = datasets.load_iris()   # Use Iris Dataset\n",
    "iris.feature_names"
   ]
  },
  {
   "cell_type": "code",
   "execution_count": 3,
   "metadata": {},
   "outputs": [],
   "source": [
    "X = iris.data[:, [0, 2]]      # Using Sepal Length and Petal Length as features\n",
    "y = iris.target\n",
    "\n",
    "# Training classifier\n",
    "gnb = GaussianNB()  # Instantiate Naive Bayes' estimator\n",
    "X_train, X_test, y_train, y_test = train_test_split(X, y, test_size=0.33)\n",
    "gnb.fit(X_train, y_train)\n",
    "y_pred = gnb.predict(X_test)"
   ]
  },
  {
   "cell_type": "code",
   "execution_count": 4,
   "metadata": {},
   "outputs": [
    {
     "data": {
      "text/plain": [
       "array([[14,  0,  0],\n",
       "       [ 0, 14,  3],\n",
       "       [ 0,  1, 18]], dtype=int64)"
      ]
     },
     "execution_count": 4,
     "metadata": {},
     "output_type": "execute_result"
    }
   ],
   "source": [
    "from sklearn.metrics import confusion_matrix\n",
    "confusion_matrix(y_test, y_pred)"
   ]
  },
  {
   "cell_type": "markdown",
   "metadata": {},
   "source": [
    "## Visualizing decision bountries\n",
    "\n",
    "Decision boundries can be visualized by preparing a contour plot."
   ]
  },
  {
   "cell_type": "code",
   "execution_count": 5,
   "metadata": {},
   "outputs": [],
   "source": [
    "# Generate data for contour plot\n",
    "x0_min, x0_max = X[:, 0].min() - 1, X[:, 0].max() + 1\n",
    "x1_min, x1_max = X[:, 1].min() - 1, X[:, 1].max() + 1\n",
    "x0, x1 = np.meshgrid(np.arange(x0_min, x0_max, 0.1),\n",
    "                     np.arange(x1_min, x1_max, 0.1))\n",
    "yy = gnb.predict(np.c_[x0.ravel(), x1.ravel()])\n",
    "yy = yy.reshape(x0.shape)"
   ]
  },
  {
   "cell_type": "markdown",
   "metadata": {},
   "source": [
    "Next we draw a contour plot, with filled regions, using the above data.\n",
    "\n",
    "The `levels` argument specifies three intervals\n",
    "\n",
    "-1 < y <= 0 : represents y = 0, i.e. Setosa \n",
    "\n",
    "0 < y <= 1  : represents y = 1, i.e. Versicolor\n",
    "\n",
    "1 < y <= 2  : represents y = 2, i.e. Virginica\n",
    "\n",
    "The `contourf` function of `matplotlib` draws contour plot with filled regions, and returns a \"contourset\" object. The contour set object provides methods to get/set additional information about the contour plot."
   ]
  },
  {
   "cell_type": "code",
   "execution_count": 6,
   "metadata": {},
   "outputs": [
    {
     "data": {
      "image/png": "[encoded data removed]",
      "text/plain": [
       "<Figure size 432x288 with 1 Axes>"
      ]
     },
     "metadata": {
      "needs_background": "light"
     },
     "output_type": "display_data"
    }
   ],
   "source": [
    "CS = plt.contourf(x0, x1, yy, levels = [-1, 0, 1, 2])\n",
    "art, lbl = CS.legend_elements()   # get elements to be passed in to legend\n",
    "lbl = iris.target_names           # relabel using appropriate labels\n",
    "plt.legend(art,lbl, edgecolor = \"k\")\n",
    "plt.scatter(X[:, 0], X[:, 1], c=y,s=20, edgecolor='k')\n",
    "plt.show()"
   ]
  },
  {
   "cell_type": "code",
   "execution_count": 7,
   "metadata": {},
   "outputs": [],
   "source": [
    "u = np.array([1, 2, 3])\n",
    "v = np.array([2, 4, 6])\n",
    "uu, vv = np.meshgrid(u, v)"
   ]
  },
  {
   "cell_type": "code",
   "execution_count": 8,
   "metadata": {},
   "outputs": [
    {
     "data": {
      "text/plain": [
       "array([[1, 2, 3],\n",
       "       [1, 2, 3],\n",
       "       [1, 2, 3]])"
      ]
     },
     "execution_count": 8,
     "metadata": {},
     "output_type": "execute_result"
    }
   ],
   "source": [
    "uu"
   ]
  },
  {
   "cell_type": "code",
   "execution_count": 9,
   "metadata": {},
   "outputs": [
    {
     "data": {
      "text/plain": [
       "array([[2, 2, 2],\n",
       "       [4, 4, 4],\n",
       "       [6, 6, 6]])"
      ]
     },
     "execution_count": 9,
     "metadata": {},
     "output_type": "execute_result"
    }
   ],
   "source": [
    "vv"
   ]
  },
  {
   "cell_type": "code",
   "execution_count": 10,
   "metadata": {},
   "outputs": [
    {
     "data": {
      "text/plain": [
       "array([1, 2, 3, 1, 2, 3, 1, 2, 3])"
      ]
     },
     "execution_count": 10,
     "metadata": {},
     "output_type": "execute_result"
    }
   ],
   "source": [
    "uu.ravel()"
   ]
  },
  {
   "cell_type": "code",
   "execution_count": 11,
   "metadata": {},
   "outputs": [
    {
     "data": {
      "text/plain": [
       "array([[1, 2],\n",
       "       [2, 2],\n",
       "       [3, 2],\n",
       "       [1, 4],\n",
       "       [2, 4],\n",
       "       [3, 4],\n",
       "       [1, 6],\n",
       "       [2, 6],\n",
       "       [3, 6]])"
      ]
     },
     "execution_count": 11,
     "metadata": {},
     "output_type": "execute_result"
    }
   ],
   "source": [
    "np.c_[uu.ravel(), vv.ravel()]"
   ]
  }
 ],
 "metadata": {
  "kernelspec": {
   "display_name": "Python 3",
   "language": "python",
   "name": "python3"
  },
  "language_info": {
   "codemirror_mode": {
    "name": "ipython",
    "version": 3
   },
   "file_extension": ".py",
   "mimetype": "text/x-python",
   "name": "python",
   "nbconvert_exporter": "python",
   "pygments_lexer": "ipython3",
   "version": "3.8.5"
  }
 },
 "nbformat": 4,
 "nbformat_minor": 1
}
